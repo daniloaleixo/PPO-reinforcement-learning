{
 "cells": [
  {
   "cell_type": "markdown",
   "metadata": {},
   "source": [
    "# STOCK TRADING\n",
    "\n",
    "Stock trading agent based on PPO\n",
    "\n",
    "* Using state as:\n",
    "    * Close (detrend)\n",
    "    * Open (detrend)\n",
    "    * High (detrend)\n",
    "    * Low (detrend)\n",
    "    * Predicted (detrend)\n",
    "    * Holdings\n",
    "    * Cash\n",
    "    * Port value\n",
    "    * Avg price paid"
   ]
  },
  {
   "cell_type": "code",
   "execution_count": 1,
   "metadata": {},
   "outputs": [
    {
     "name": "stdout",
     "output_type": "stream",
     "text": [
      "\u001b[33mWARNING: The directory '/home/jovyan/.cache/pip' or its parent directory is not owned or is not writable by the current user. The cache has been disabled. Check the permissions and owner of that directory. If executing pip with sudo, you may want sudo's -H flag.\u001b[0m\n",
      "Collecting opencv-python\n",
      "  Downloading opencv_python-4.5.3.56-cp37-cp37m-manylinux2014_x86_64.whl (49.9 MB)\n",
      "\u001b[K     |████████████████████████████████| 49.9 MB 4.6 MB/s eta 0:00:01\n",
      "\u001b[?25hRequirement already satisfied: numpy>=1.14.5 in /opt/conda/lib/python3.7/site-packages (from opencv-python) (1.18.5)\n",
      "Installing collected packages: opencv-python\n",
      "Successfully installed opencv-python-4.5.3.56\n",
      "\u001b[33mWARNING: You are using pip version 21.0.1; however, version 21.2.4 is available.\n",
      "You should consider upgrading via the '/opt/conda/bin/python3.7 -m pip install --upgrade pip' command.\u001b[0m\n"
     ]
    }
   ],
   "source": [
    "!pip install opencv-python"
   ]
  },
  {
   "cell_type": "code",
   "execution_count": 5,
   "metadata": {},
   "outputs": [],
   "source": [
    "import os\n",
    "import sys\n",
    "import gym\n",
    "import argparse\n",
    "import numpy as np\n",
    "import pandas as pd\n",
    "import json\n",
    "import tensorflow as tf\n",
    "\n",
    "from PPO.ppo import PPO\n",
    "\n",
    "from keras.backend.tensorflow_backend import set_session\n",
    "from keras.utils import to_categorical\n",
    "\n",
    "from core.market_env_v0 import MarketEnvironmentV0\n",
    "from utils.networks import get_session"
   ]
  },
  {
   "cell_type": "code",
   "execution_count": 6,
   "metadata": {},
   "outputs": [],
   "source": [
    "gym.logger.set_level(40)\n",
    "os.environ['TF_CPP_MIN_LOG_LEVEL'] = '3'"
   ]
  },
  {
   "cell_type": "markdown",
   "metadata": {},
   "source": [
    "## Load data"
   ]
  },
  {
   "cell_type": "code",
   "execution_count": 9,
   "metadata": {},
   "outputs": [],
   "source": [
    "x_train = np.loadtxt('data/EURUSD-1D-agent-train-detrend.csv', delimiter=\",\")\n",
    "x_train_undo_detrend = np.loadtxt('data/EURUSD-1D-agent-train.csv', delimiter=\",\")"
   ]
  },
  {
   "cell_type": "markdown",
   "metadata": {},
   "source": [
    "## Hyper parameters"
   ]
  },
  {
   "cell_type": "code",
   "execution_count": 57,
   "metadata": {},
   "outputs": [],
   "source": [
    "### MODEL HYPERPARAMETERS\n",
    "seq_len = 100\n",
    "num_cols = 9 # OHLC and others\n",
    "\n",
    "# Here our possible actions\n",
    "sit = [1, 0, 0]\n",
    "buy = [0, 1, 0]\n",
    "sell = [0, 0, 1]\n",
    "possible_actions = [sit, buy, sell]\n",
    "state_size = (5, 1) # (close, open, high, low, predicted of next candle)\n",
    "action_size = 3              # 3 possible actions: sit, buy, sell\n",
    "\n",
    "# Learning Hyper parameters\n",
    "learning_rate =  1e-5\n",
    "reward_function =  'SimpleProfit' # policy function\n",
    "\n",
    "### TRAINING HYPERPARAMETERS\n",
    "total_episodes = 5000\n",
    "batch_size = 1024\n",
    "\n",
    "# Exploration parameters for epsilon greedy strategy\n",
    "explore_start = 0.6            # exploration probability at start\n",
    "explore_stop = 0.1            # minimum exploration probability \n",
    "decay_rate = 0.01            # exponential decay rate for exploration prob\n",
    "\n",
    "# Q learning hyperparameters\n",
    "gamma = 0.999               # Discounting rate\n",
    "\n",
    "\n",
    "### MEMORY HYPERPARAMETERS\n",
    "pretrain_length = batch_size   # Number of experiences stored in the Memory when initialized for the first time\n",
    "memory_size = 20000          # Number of experiences the Memory can keep\n",
    "\n",
    "### PPO Params\n",
    "profit_window_size = 10\n",
    "close_col = 0\n",
    "buffer_size = 1024\n",
    "epochs = 10\n",
    "initial_cash = 5.0\n",
    "loss_clipping = 0.2\n",
    "noise = 1.0\n",
    "entropy_loss = 5e-3\n",
    "\n",
    "gpu = True\n",
    "gather_stats = True\n",
    "env_name = 'Market'\n",
    "type = 'PPO'\n",
    "consecutive_frames = 4\n",
    "\n",
    "\n",
    "### Env penalties\n",
    "large_holdings_penalty = 0\n",
    "lost_all_cash_penalty = -1e2\n",
    "inaction_penalty = -1e-4\n",
    "\n",
    "\n",
    "### MODIFY THIS TO FALSE IF YOU JUST WANT TO SEE THE TRAINED AGENT\n",
    "training = True"
   ]
  },
  {
   "cell_type": "markdown",
   "metadata": {},
   "source": [
    "## Init logs"
   ]
  },
  {
   "cell_type": "code",
   "execution_count": 58,
   "metadata": {},
   "outputs": [],
   "source": [
    "tensorboard_logs = type + \"/tensorboard_\" + env_name + \"_v0.2\""
   ]
  },
  {
   "cell_type": "code",
   "execution_count": 59,
   "metadata": {},
   "outputs": [
    {
     "name": "stdout",
     "output_type": "stream",
     "text": [
      "mkdir: cannot create directory ‘PPO/tensorboard_Market_v0.2’: File exists\n"
     ]
    }
   ],
   "source": [
    "!mkdir $tensorboard_logs\n",
    "\n",
    "# Clear any logs from previous runs\n",
    "import shutil\n",
    "shutil.rmtree(tensorboard_logs)"
   ]
  },
  {
   "cell_type": "code",
   "execution_count": 60,
   "metadata": {},
   "outputs": [],
   "source": [
    "set_session(get_session())\n",
    "summary_writer = tf.summary.FileWriter(tensorboard_logs)"
   ]
  },
  {
   "cell_type": "markdown",
   "metadata": {},
   "source": [
    "## Seeing data"
   ]
  },
  {
   "cell_type": "code",
   "execution_count": 61,
   "metadata": {},
   "outputs": [
    {
     "name": "stderr",
     "output_type": "stream",
     "text": [
      "No handles with labels found to put in legend.\n"
     ]
    },
    {
     "data": {
      "image/png": "[encoded data removed]",
      "text/plain": [
       "<Figure size 432x288 with 1 Axes>"
      ]
     },
     "metadata": {},
     "output_type": "display_data"
    }
   ],
   "source": [
    "import matplotlib.pyplot as plt\n",
    "\n",
    "fig1 = plt.figure(facecolor='white')\n",
    "ax1 = fig1.add_subplot(111)\n",
    "plt.plot(x_train[:, 0])\n",
    "plt.legend()\n",
    "plt.show()"
   ]
  },
  {
   "cell_type": "markdown",
   "metadata": {},
   "source": [
    "## Setting up the algo"
   ]
  },
  {
   "cell_type": "code",
   "execution_count": 62,
   "metadata": {},
   "outputs": [
    {
     "name": "stdout",
     "output_type": "stream",
     "text": [
      "SimpleProfit\n"
     ]
    }
   ],
   "source": [
    "# Environment Initialization\n",
    "env = MarketEnvironmentV0(x_train, possible_actions, state_size, \n",
    "                        start_index=300,\n",
    "                        end_index=405,\n",
    "                        initial_cash=initial_cash,\n",
    "                        close_col=close_col, \n",
    "                        undo_detrend=x_train_undo_detrend, \n",
    "                        reward_function=reward_function, \n",
    "                        profit_window_size=profit_window_size, \n",
    "                        inaction_penalty=inaction_penalty,\n",
    "                        large_holdings_penalty=large_holdings_penalty)\n",
    "env.reset()\n",
    "state_dim = env.get_state_size()[0]\n",
    "action_dim = env.get_action_size()"
   ]
  },
  {
   "cell_type": "code",
   "execution_count": 63,
   "metadata": {},
   "outputs": [],
   "source": [
    "layers = [\n",
    "\t\t\t{\n",
    "\t\t\t\t\"type\": \"dense\",\n",
    "\t\t\t\t\"neurons\": 32,\n",
    "\t\t\t\t\"activation\": \"tanh\",\n",
    "\t\t\t\t\"is_input\": True\n",
    "\t\t\t},\n",
    "\t\t\t{\n",
    "\t\t\t\t\"type\": \"dense\",\n",
    "\t\t\t\t\"activation\": \"tanh\",\n",
    "\t\t\t\t\"neurons\": 32\n",
    "\t\t\t},\n",
    "\t\t\t{\n",
    "\t\t\t\t\"type\": \"dense\",\n",
    "\t\t\t\t\"activation\": \"tanh\",\n",
    "\t\t\t\t\"neurons\": 8\n",
    "\t\t\t},\n",
    "\t\t\t{\n",
    "\t\t\t\t\"type\": \"dense\",\n",
    "\t\t\t\t\"activation\": \"tanh\",\n",
    "\t\t\t\t\"neurons\": 32\n",
    "\t\t\t},\n",
    "\t\t\t{\n",
    "\t\t\t\t\"type\": \"dense\",\n",
    "\t\t\t\t\"activation\": \"tanh\",\n",
    "\t\t\t\t\"neurons\": 8\n",
    "\t\t\t},\n",
    "\t\t\t{\n",
    "\t\t\t\t\"type\": \"dense\",\n",
    "\t\t\t\t\"is_output\": True,\n",
    "\t\t\t\t\"activation\": \"softmax\"\n",
    "\t\t\t}\n",
    "\t\t]"
   ]
  },
  {
   "cell_type": "code",
   "execution_count": 64,
   "metadata": {},
   "outputs": [
    {
     "name": "stdout",
     "output_type": "stream",
     "text": [
      "_________________________________________________________________\n",
      "Layer (type)                 Output Shape              Param #   \n",
      "=================================================================\n",
      "input_17 (InputLayer)        (None, 5)                 0         \n",
      "_________________________________________________________________\n",
      "actor_input (Dense)          (None, 32)                192       \n",
      "_________________________________________________________________\n",
      "dense_33 (Dense)             (None, 32)                1056      \n",
      "_________________________________________________________________\n",
      "dense_34 (Dense)             (None, 8)                 264       \n",
      "_________________________________________________________________\n",
      "dense_35 (Dense)             (None, 32)                288       \n",
      "_________________________________________________________________\n",
      "dense_36 (Dense)             (None, 8)                 264       \n",
      "_________________________________________________________________\n",
      "actor_output (Dense)         (None, 3)                 27        \n",
      "=================================================================\n",
      "Total params: 2,091\n",
      "Trainable params: 2,091\n",
      "Non-trainable params: 0\n",
      "_________________________________________________________________\n",
      "_________________________________________________________________\n",
      "Layer (type)                 Output Shape              Param #   \n",
      "=================================================================\n",
      "input_20 (InputLayer)        (None, 5)                 0         \n",
      "_________________________________________________________________\n",
      "critic_input (Dense)         (None, 32)                192       \n",
      "_________________________________________________________________\n",
      "dense_37 (Dense)             (None, 32)                1056      \n",
      "_________________________________________________________________\n",
      "dense_38 (Dense)             (None, 8)                 264       \n",
      "_________________________________________________________________\n",
      "dense_39 (Dense)             (None, 32)                288       \n",
      "_________________________________________________________________\n",
      "dense_40 (Dense)             (None, 8)                 264       \n",
      "_________________________________________________________________\n",
      "critic_output (Dense)        (None, 1)                 9         \n",
      "=================================================================\n",
      "Total params: 2,073\n",
      "Trainable params: 2,073\n",
      "Non-trainable params: 0\n",
      "_________________________________________________________________\n"
     ]
    }
   ],
   "source": [
    "algo = PPO(action_dim, state_dim, consecutive_frames, \n",
    "           lr=learning_rate, gamma=gamma, layers=layers,\n",
    "          loss_clipping=loss_clipping, noise=noise, entropy_loss=entropy_loss)"
   ]
  },
  {
   "cell_type": "markdown",
   "metadata": {},
   "source": [
    "## Training"
   ]
  },
  {
   "cell_type": "code",
   "execution_count": 65,
   "metadata": {
    "scrolled": true
   },
   "outputs": [
    {
     "name": "stderr",
     "output_type": "stream",
     "text": [
      "Score per bash:   0%|          | 0/5000 [00:00<?, ? episodes/s]"
     ]
    },
    {
     "name": "stdout",
     "output_type": "stream",
     "text": [
      "--------------------------------------------------\n",
      "Traning with parameters:\n",
      "\t- learning_rate:  1e-05\n",
      "\t- batch_size:  1024\n",
      "\t- buffer_size:  1024\n",
      "\t- reward function:  <core.reward_functions.SimpleProfit object at 0x7f0e3019efd0>\n",
      "\t- epochs:  10\n",
      "\t- loss_clipping:  0.2\n",
      "\t- noise:  1.0\n",
      "\t- entropy_loss:  0.005\n",
      "\t- initial cash:  5.0\n",
      "\t- profit_window_size:  10\n",
      "\t- inaction_penalty:  -0.0001\n",
      "--------------------------------------------------\n"
     ]
    },
    {
     "name": "stderr",
     "output_type": "stream",
     "text": [
      "Score per bash: -37.598465726162054: 100%|█████████▉| 4999/5000 [08:06<00:00, 10.28 episodes/s]\n"
     ]
    }
   ],
   "source": [
    "rewards, actor_losses, critic_losses = algo.train(env, summary_writer, debug=False, \n",
    "                    batch_size=batch_size, buffer_size=buffer_size, epochs=epochs, nb_episodes=total_episodes)"
   ]
  },
  {
   "cell_type": "code",
   "execution_count": 69,
   "metadata": {},
   "outputs": [],
   "source": [
    "rewards = algo.batch_rewards"
   ]
  },
  {
   "cell_type": "code",
   "execution_count": 70,
   "metadata": {},
   "outputs": [
    {
     "data": {
      "image/png": "[encoded data removed]",
      "text/plain": [
       "<Figure size 432x288 with 1 Axes>"
      ]
     },
     "metadata": {
      "needs_background": "light"
     },
     "output_type": "display_data"
    }
   ],
   "source": [
    "import matplotlib.pyplot as plt\n",
    "plt.plot(np.array(rewards).clip(-1e2,1e4))\n",
    "plt.show()"
   ]
  },
  {
   "cell_type": "code",
   "execution_count": 68,
   "metadata": {},
   "outputs": [],
   "source": [
    "import datetime\n",
    "now = datetime.datetime.now().strftime(\"%S-%M-%H_%d-%m-%Y\")\n",
    "weights_filename = \"saved_models/PPO_\" + now + \"_\"\n",
    "algo.save_weights(weights_filename)"
   ]
  },
  {
   "cell_type": "markdown",
   "metadata": {},
   "source": [
    "## TEsting"
   ]
  },
  {
   "cell_type": "code",
   "execution_count": 74,
   "metadata": {},
   "outputs": [
    {
     "name": "stdout",
     "output_type": "stream",
     "text": [
      "SimpleProfit\n"
     ]
    }
   ],
   "source": [
    "args = {\n",
    "    'x': x_train, \n",
    "    'actions': possible_actions, \n",
    "    'state_size': state_size, \n",
    "    'start_index': 0,\n",
    "    'end_index': 5000,\n",
    "    'initial_cash': initial_cash,\n",
    "    'close_col': close_col, \n",
    "    'undo_detrend': x_train_undo_detrend, \n",
    "    'reward_function': reward_function, \n",
    "    'profit_window_size': profit_window_size, \n",
    "    'inaction_penalty': inaction_penalty,\n",
    "    'large_holdings_penalty': large_holdings_penalty\n",
    "}\n",
    "env = MarketEnvironmentV0(**args)"
   ]
  },
  {
   "cell_type": "code",
   "execution_count": 75,
   "metadata": {},
   "outputs": [
    {
     "name": "stdout",
     "output_type": "stream",
     "text": [
      "_________________________________________________________________\n",
      "Layer (type)                 Output Shape              Param #   \n",
      "=================================================================\n",
      "input_21 (InputLayer)        (None, 5)                 0         \n",
      "_________________________________________________________________\n",
      "actor_input (Dense)          (None, 32)                192       \n",
      "_________________________________________________________________\n",
      "dense_41 (Dense)             (None, 32)                1056      \n",
      "_________________________________________________________________\n",
      "dense_42 (Dense)             (None, 8)                 264       \n",
      "_________________________________________________________________\n",
      "dense_43 (Dense)             (None, 32)                288       \n",
      "_________________________________________________________________\n",
      "dense_44 (Dense)             (None, 8)                 264       \n",
      "_________________________________________________________________\n",
      "actor_output (Dense)         (None, 3)                 27        \n",
      "=================================================================\n",
      "Total params: 2,091\n",
      "Trainable params: 2,091\n",
      "Non-trainable params: 0\n",
      "_________________________________________________________________\n",
      "_________________________________________________________________\n",
      "Layer (type)                 Output Shape              Param #   \n",
      "=================================================================\n",
      "input_24 (InputLayer)        (None, 5)                 0         \n",
      "_________________________________________________________________\n",
      "critic_input (Dense)         (None, 32)                192       \n",
      "_________________________________________________________________\n",
      "dense_45 (Dense)             (None, 32)                1056      \n",
      "_________________________________________________________________\n",
      "dense_46 (Dense)             (None, 8)                 264       \n",
      "_________________________________________________________________\n",
      "dense_47 (Dense)             (None, 32)                288       \n",
      "_________________________________________________________________\n",
      "dense_48 (Dense)             (None, 8)                 264       \n",
      "_________________________________________________________________\n",
      "critic_output (Dense)        (None, 1)                 9         \n",
      "=================================================================\n",
      "Total params: 2,073\n",
      "Trainable params: 2,073\n",
      "Non-trainable params: 0\n",
      "_________________________________________________________________\n"
     ]
    }
   ],
   "source": [
    "algo = PPO(action_dim, state_dim, consecutive_frames, is_eval=True,\n",
    "           lr=learning_rate, gamma=gamma, layers=layers,\n",
    "          loss_clipping=loss_clipping, noise=noise, entropy_loss=entropy_loss)"
   ]
  },
  {
   "cell_type": "code",
   "execution_count": 51,
   "metadata": {},
   "outputs": [
    {
     "data": {
      "text/plain": [
       "'saved_models/PPO_58-05-22_11-09-2021_'"
      ]
     },
     "execution_count": 51,
     "metadata": {},
     "output_type": "execute_result"
    }
   ],
   "source": [
    "weights_filename"
   ]
  },
  {
   "cell_type": "code",
   "execution_count": 77,
   "metadata": {},
   "outputs": [],
   "source": [
    "algo.load_weights(\n",
    "    \"saved_models/PPO_11-17-22_11-09-2021__LR_1e-05_actor.h5\", \n",
    "    \"saved_models/PPO_11-17-22_11-09-2021__LR_1e-05_critic.h5\"\n",
    ")"
   ]
  },
  {
   "cell_type": "code",
   "execution_count": 78,
   "metadata": {},
   "outputs": [],
   "source": [
    "def buy():\n",
    "    states_sell = []\n",
    "    states_buy = []\n",
    "    close = []\n",
    "    \n",
    "    observation = env.reset()\n",
    "    done = False\n",
    "    t = 0 \n",
    "\n",
    "    while not done:\n",
    "        close.append(env.get_last_close())\n",
    "        action = algo.policy_action(np.array(observation))\n",
    "        if action == 1: states_buy.append(t)\n",
    "        if action == 2: states_sell.append(t)\n",
    "            \n",
    "        observation, r, done, _ = env.step(action)\n",
    "        \n",
    "        t += 1\n",
    "        \n",
    "    info = env.get_info()\n",
    "    return close, states_buy, states_sell, float(info['total_profit']), float(info['cash_profit'])"
   ]
  },
  {
   "cell_type": "code",
   "execution_count": 79,
   "metadata": {},
   "outputs": [],
   "source": [
    "close, states_buy, states_sell, total_gains, invest = buy()"
   ]
  },
  {
   "cell_type": "code",
   "execution_count": 80,
   "metadata": {},
   "outputs": [
    {
     "data": {
      "image/png": "[encoded data removed]",
      "text/plain": [
       "<Figure size 1080x360 with 1 Axes>"
      ]
     },
     "metadata": {
      "needs_background": "light"
     },
     "output_type": "display_data"
    }
   ],
   "source": [
    "fig = plt.figure(figsize = (15,5))\n",
    "plt.plot(close, color='r', lw=2.)\n",
    "plt.plot(close, '^', markersize=10, color='m', label = 'buying signal', markevery = states_buy)\n",
    "plt.plot(close, 'v', markersize=10, color='k', label = 'selling signal', markevery = states_sell)\n",
    "plt.title('total gains %f, total investment %f%%'%(total_gains, invest))\n",
    "plt.legend()\n",
    "plt.show()"
   ]
  },
  {
   "cell_type": "code",
   "execution_count": null,
   "metadata": {},
   "outputs": [],
   "source": []
  }
 ],
 "metadata": {
  "kernelspec": {
   "display_name": "Python 3",
   "language": "python",
   "name": "python3"
  },
  "language_info": {
   "codemirror_mode": {
    "name": "ipython",
    "version": 3
   },
   "file_extension": ".py",
   "mimetype": "text/x-python",
   "name": "python",
   "nbconvert_exporter": "python",
   "pygments_lexer": "ipython3",
   "version": "3.7.6"
  }
 },
 "nbformat": 4,
 "nbformat_minor": 4
}
